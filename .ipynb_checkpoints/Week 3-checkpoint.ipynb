{
 "cells": [
  {
   "cell_type": "markdown",
   "metadata": {},
   "source": [
    "# Import necessary libraries"
   ]
  },
  {
   "cell_type": "code",
   "execution_count": 143,
   "metadata": {
    "scrolled": true
   },
   "outputs": [
    {
     "name": "stdout",
     "output_type": "stream",
     "text": [
      "folium imported\n",
      "geopy imported\n"
     ]
    }
   ],
   "source": [
    "from bs4 import BeautifulSoup\n",
    "import requests\n",
    "import pandas as pd\n",
    "import numpy as np\n",
    "import os\n",
    "from sklearn.cluster import KMeans\n",
    "import folium \n",
    "print(\"folium imported\")\n",
    "from geopy.geocoders import Nominatim \n",
    "print(\"geopy imported\")\n",
    "import matplotlib.cm as cm\n",
    "import matplotlib.colors as colors\n"
   ]
  },
  {
   "cell_type": "markdown",
   "metadata": {},
   "source": [
    "# Scan through the table and obtain the required data"
   ]
  },
  {
   "cell_type": "code",
   "execution_count": 144,
   "metadata": {},
   "outputs": [
    {
     "data": {
      "text/html": [
       "<div>\n",
       "<style scoped>\n",
       "    .dataframe tbody tr th:only-of-type {\n",
       "        vertical-align: middle;\n",
       "    }\n",
       "\n",
       "    .dataframe tbody tr th {\n",
       "        vertical-align: top;\n",
       "    }\n",
       "\n",
       "    .dataframe thead th {\n",
       "        text-align: right;\n",
       "    }\n",
       "</style>\n",
       "<table border=\"1\" class=\"dataframe\">\n",
       "  <thead>\n",
       "    <tr style=\"text-align: right;\">\n",
       "      <th></th>\n",
       "      <th>Postalcode</th>\n",
       "      <th>Borough</th>\n",
       "      <th>Neighborhood</th>\n",
       "    </tr>\n",
       "  </thead>\n",
       "  <tbody>\n",
       "    <tr>\n",
       "      <th>0</th>\n",
       "      <td>M1A</td>\n",
       "      <td>Not assigned</td>\n",
       "      <td>Not assigned</td>\n",
       "    </tr>\n",
       "    <tr>\n",
       "      <th>1</th>\n",
       "      <td>M2A</td>\n",
       "      <td>Not assigned</td>\n",
       "      <td>Not assigned</td>\n",
       "    </tr>\n",
       "    <tr>\n",
       "      <th>2</th>\n",
       "      <td>M3A</td>\n",
       "      <td>North York</td>\n",
       "      <td>Parkwoods</td>\n",
       "    </tr>\n",
       "    <tr>\n",
       "      <th>3</th>\n",
       "      <td>M4A</td>\n",
       "      <td>North York</td>\n",
       "      <td>Victoria Village</td>\n",
       "    </tr>\n",
       "    <tr>\n",
       "      <th>4</th>\n",
       "      <td>M5A</td>\n",
       "      <td>Downtown Toronto</td>\n",
       "      <td>Regent Park, Harbourfront</td>\n",
       "    </tr>\n",
       "  </tbody>\n",
       "</table>\n",
       "</div>"
      ],
      "text/plain": [
       "  Postalcode           Borough               Neighborhood\n",
       "0        M1A      Not assigned               Not assigned\n",
       "1        M2A      Not assigned               Not assigned\n",
       "2        M3A        North York                  Parkwoods\n",
       "3        M4A        North York           Victoria Village\n",
       "4        M5A  Downtown Toronto  Regent Park, Harbourfront"
      ]
     },
     "execution_count": 144,
     "metadata": {},
     "output_type": "execute_result"
    }
   ],
   "source": [
    "url = \"https://en.wikipedia.org/wiki/List_of_postal_codes_of_Canada:_M\"\n",
    "req = requests.get(url).text\n",
    "soup = BeautifulSoup(req, 'xml')\n",
    "table=soup.find('table')\n",
    "list_of_column_names = ['Postalcode','Borough','Neighborhood']\n",
    "df = pd.DataFrame(columns = list_of_column_names)\n",
    "for tr in table.find_all('tr'):\n",
    "    row_data=[]\n",
    "    for td_cell in tr.find_all('td'):\n",
    "        row_data.append(td_cell.text.strip())\n",
    "    if len(row_data)==3:\n",
    "        df.loc[len(df)] = row_data\n",
    "df.head()"
   ]
  },
  {
   "cell_type": "markdown",
   "metadata": {},
   "source": [
    "# Clean the data as required"
   ]
  },
  {
   "cell_type": "code",
   "execution_count": 145,
   "metadata": {},
   "outputs": [
    {
     "data": {
      "text/html": [
       "<div>\n",
       "<style scoped>\n",
       "    .dataframe tbody tr th:only-of-type {\n",
       "        vertical-align: middle;\n",
       "    }\n",
       "\n",
       "    .dataframe tbody tr th {\n",
       "        vertical-align: top;\n",
       "    }\n",
       "\n",
       "    .dataframe thead th {\n",
       "        text-align: right;\n",
       "    }\n",
       "</style>\n",
       "<table border=\"1\" class=\"dataframe\">\n",
       "  <thead>\n",
       "    <tr style=\"text-align: right;\">\n",
       "      <th></th>\n",
       "      <th>Postalcode</th>\n",
       "      <th>Borough</th>\n",
       "      <th>Neighborhood</th>\n",
       "    </tr>\n",
       "  </thead>\n",
       "  <tbody>\n",
       "    <tr>\n",
       "      <th>0</th>\n",
       "      <td>M3A</td>\n",
       "      <td>North York</td>\n",
       "      <td>Parkwoods</td>\n",
       "    </tr>\n",
       "    <tr>\n",
       "      <th>1</th>\n",
       "      <td>M4A</td>\n",
       "      <td>North York</td>\n",
       "      <td>Victoria Village</td>\n",
       "    </tr>\n",
       "    <tr>\n",
       "      <th>2</th>\n",
       "      <td>M5A</td>\n",
       "      <td>Downtown Toronto</td>\n",
       "      <td>Regent Park, Harbourfront</td>\n",
       "    </tr>\n",
       "    <tr>\n",
       "      <th>3</th>\n",
       "      <td>M6A</td>\n",
       "      <td>North York</td>\n",
       "      <td>Lawrence Manor, Lawrence Heights</td>\n",
       "    </tr>\n",
       "    <tr>\n",
       "      <th>4</th>\n",
       "      <td>M7A</td>\n",
       "      <td>Downtown Toronto</td>\n",
       "      <td>Queen's Park, Ontario Provincial Government</td>\n",
       "    </tr>\n",
       "  </tbody>\n",
       "</table>\n",
       "</div>"
      ],
      "text/plain": [
       "  Postalcode           Borough                                 Neighborhood\n",
       "0        M3A        North York                                    Parkwoods\n",
       "1        M4A        North York                             Victoria Village\n",
       "2        M5A  Downtown Toronto                    Regent Park, Harbourfront\n",
       "3        M6A        North York             Lawrence Manor, Lawrence Heights\n",
       "4        M7A  Downtown Toronto  Queen's Park, Ontario Provincial Government"
      ]
     },
     "execution_count": 145,
     "metadata": {},
     "output_type": "execute_result"
    }
   ],
   "source": [
    "df=df[df['Borough']!='Not assigned']\n",
    "tdf=df.groupby('Postalcode')['Neighborhood'].apply(lambda x: \"%s\" % ', '.join(x))\n",
    "tdf=tdf.reset_index(drop=False)\n",
    "tdf.rename(columns={'Neighborhood':'Neighborhood_joined'},inplace=True)\n",
    "dfm = pd.merge(df, tdf, on='Postalcode')\n",
    "dfm.drop(['Neighborhood'],axis=1,inplace=True)\n",
    "dfm.drop_duplicates(inplace=True)\n",
    "dfm.rename(columns={'Neighborhood_joined':'Neighborhood'},inplace=True)\n",
    "dfm.head()"
   ]
  },
  {
   "cell_type": "code",
   "execution_count": 146,
   "metadata": {},
   "outputs": [
    {
     "data": {
      "text/plain": [
       "(103, 3)"
      ]
     },
     "execution_count": 146,
     "metadata": {},
     "output_type": "execute_result"
    }
   ],
   "source": [
    "dfm.shape"
   ]
  },
  {
   "cell_type": "markdown",
   "metadata": {},
   "source": [
    "# 2nd submission starts here"
   ]
  },
  {
   "cell_type": "code",
   "execution_count": 149,
   "metadata": {},
   "outputs": [],
   "source": [
    "#since I was not able to download the package needed\n",
    "def geocode(zipcode):\n",
    "    latandlong_coords = None\n",
    "    while(latandlong_coords is None):\n",
    "        g = geocoder.google('{}, Toronto, Ontario'.format(zipdode))\n",
    "        latandlong_coords = g.latandlong\n",
    "    lat = latandlong_coords[0]\n",
    "    long = latandlong_coords[1]\n",
    "    return lat,long"
   ]
  },
  {
   "cell_type": "code",
   "execution_count": 150,
   "metadata": {},
   "outputs": [],
   "source": [
    "gdf=pd.read_csv('http://cocl.us/Geospatial_data')"
   ]
  },
  {
   "cell_type": "code",
   "execution_count": 151,
   "metadata": {
    "scrolled": true
   },
   "outputs": [],
   "source": [
    "gdf.head()\n",
    "gdf.rename(columns={'Postal Code':'Postalcode'},inplace=True)\n",
    "gmerged = pd.merge(gdf, dfm, on='Postalcode')\n",
    "gdata=gmerged[['Postalcode','Borough','Neighborhood','Latitude','Longitude']]"
   ]
  },
  {
   "cell_type": "code",
   "execution_count": 152,
   "metadata": {},
   "outputs": [
    {
     "data": {
      "text/html": [
       "<div>\n",
       "<style scoped>\n",
       "    .dataframe tbody tr th:only-of-type {\n",
       "        vertical-align: middle;\n",
       "    }\n",
       "\n",
       "    .dataframe tbody tr th {\n",
       "        vertical-align: top;\n",
       "    }\n",
       "\n",
       "    .dataframe thead th {\n",
       "        text-align: right;\n",
       "    }\n",
       "</style>\n",
       "<table border=\"1\" class=\"dataframe\">\n",
       "  <thead>\n",
       "    <tr style=\"text-align: right;\">\n",
       "      <th></th>\n",
       "      <th>Postalcode</th>\n",
       "      <th>Borough</th>\n",
       "      <th>Neighborhood</th>\n",
       "      <th>Latitude</th>\n",
       "      <th>Longitude</th>\n",
       "    </tr>\n",
       "  </thead>\n",
       "  <tbody>\n",
       "    <tr>\n",
       "      <th>0</th>\n",
       "      <td>M1B</td>\n",
       "      <td>Scarborough</td>\n",
       "      <td>Malvern, Rouge</td>\n",
       "      <td>43.806686</td>\n",
       "      <td>-79.194353</td>\n",
       "    </tr>\n",
       "    <tr>\n",
       "      <th>1</th>\n",
       "      <td>M1C</td>\n",
       "      <td>Scarborough</td>\n",
       "      <td>Rouge Hill, Port Union, Highland Creek</td>\n",
       "      <td>43.784535</td>\n",
       "      <td>-79.160497</td>\n",
       "    </tr>\n",
       "    <tr>\n",
       "      <th>2</th>\n",
       "      <td>M1E</td>\n",
       "      <td>Scarborough</td>\n",
       "      <td>Guildwood, Morningside, West Hill</td>\n",
       "      <td>43.763573</td>\n",
       "      <td>-79.188711</td>\n",
       "    </tr>\n",
       "    <tr>\n",
       "      <th>3</th>\n",
       "      <td>M1G</td>\n",
       "      <td>Scarborough</td>\n",
       "      <td>Woburn</td>\n",
       "      <td>43.770992</td>\n",
       "      <td>-79.216917</td>\n",
       "    </tr>\n",
       "    <tr>\n",
       "      <th>4</th>\n",
       "      <td>M1H</td>\n",
       "      <td>Scarborough</td>\n",
       "      <td>Cedarbrae</td>\n",
       "      <td>43.773136</td>\n",
       "      <td>-79.239476</td>\n",
       "    </tr>\n",
       "    <tr>\n",
       "      <th>...</th>\n",
       "      <td>...</td>\n",
       "      <td>...</td>\n",
       "      <td>...</td>\n",
       "      <td>...</td>\n",
       "      <td>...</td>\n",
       "    </tr>\n",
       "    <tr>\n",
       "      <th>95</th>\n",
       "      <td>M9C</td>\n",
       "      <td>Etobicoke</td>\n",
       "      <td>Eringate, Bloordale Gardens, Old Burnhamthorpe...</td>\n",
       "      <td>43.643515</td>\n",
       "      <td>-79.577201</td>\n",
       "    </tr>\n",
       "    <tr>\n",
       "      <th>96</th>\n",
       "      <td>M9L</td>\n",
       "      <td>North York</td>\n",
       "      <td>Humber Summit</td>\n",
       "      <td>43.756303</td>\n",
       "      <td>-79.565963</td>\n",
       "    </tr>\n",
       "    <tr>\n",
       "      <th>97</th>\n",
       "      <td>M9M</td>\n",
       "      <td>North York</td>\n",
       "      <td>Humberlea, Emery</td>\n",
       "      <td>43.724766</td>\n",
       "      <td>-79.532242</td>\n",
       "    </tr>\n",
       "    <tr>\n",
       "      <th>98</th>\n",
       "      <td>M9N</td>\n",
       "      <td>York</td>\n",
       "      <td>Weston</td>\n",
       "      <td>43.706876</td>\n",
       "      <td>-79.518188</td>\n",
       "    </tr>\n",
       "    <tr>\n",
       "      <th>99</th>\n",
       "      <td>M9P</td>\n",
       "      <td>Etobicoke</td>\n",
       "      <td>Westmount</td>\n",
       "      <td>43.696319</td>\n",
       "      <td>-79.532242</td>\n",
       "    </tr>\n",
       "  </tbody>\n",
       "</table>\n",
       "<p>100 rows × 5 columns</p>\n",
       "</div>"
      ],
      "text/plain": [
       "   Postalcode      Borough                                       Neighborhood  \\\n",
       "0         M1B  Scarborough                                     Malvern, Rouge   \n",
       "1         M1C  Scarborough             Rouge Hill, Port Union, Highland Creek   \n",
       "2         M1E  Scarborough                  Guildwood, Morningside, West Hill   \n",
       "3         M1G  Scarborough                                             Woburn   \n",
       "4         M1H  Scarborough                                          Cedarbrae   \n",
       "..        ...          ...                                                ...   \n",
       "95        M9C    Etobicoke  Eringate, Bloordale Gardens, Old Burnhamthorpe...   \n",
       "96        M9L   North York                                      Humber Summit   \n",
       "97        M9M   North York                                   Humberlea, Emery   \n",
       "98        M9N         York                                             Weston   \n",
       "99        M9P    Etobicoke                                          Westmount   \n",
       "\n",
       "     Latitude  Longitude  \n",
       "0   43.806686 -79.194353  \n",
       "1   43.784535 -79.160497  \n",
       "2   43.763573 -79.188711  \n",
       "3   43.770992 -79.216917  \n",
       "4   43.773136 -79.239476  \n",
       "..        ...        ...  \n",
       "95  43.643515 -79.577201  \n",
       "96  43.756303 -79.565963  \n",
       "97  43.724766 -79.532242  \n",
       "98  43.706876 -79.518188  \n",
       "99  43.696319 -79.532242  \n",
       "\n",
       "[100 rows x 5 columns]"
      ]
     },
     "execution_count": 152,
     "metadata": {},
     "output_type": "execute_result"
    }
   ],
   "source": [
    "gdata.head(100)"
   ]
  },
  {
   "cell_type": "markdown",
   "metadata": {},
   "source": [
    "# 3rd submissino starts here"
   ]
  },
  {
   "cell_type": "code",
   "execution_count": 153,
   "metadata": {},
   "outputs": [
    {
     "data": {
      "text/html": [
       "<div>\n",
       "<style scoped>\n",
       "    .dataframe tbody tr th:only-of-type {\n",
       "        vertical-align: middle;\n",
       "    }\n",
       "\n",
       "    .dataframe tbody tr th {\n",
       "        vertical-align: top;\n",
       "    }\n",
       "\n",
       "    .dataframe thead th {\n",
       "        text-align: right;\n",
       "    }\n",
       "</style>\n",
       "<table border=\"1\" class=\"dataframe\">\n",
       "  <thead>\n",
       "    <tr style=\"text-align: right;\">\n",
       "      <th></th>\n",
       "      <th>Postalcode</th>\n",
       "      <th>Borough</th>\n",
       "      <th>Neighborhood</th>\n",
       "      <th>Latitude</th>\n",
       "      <th>Longitude</th>\n",
       "    </tr>\n",
       "  </thead>\n",
       "  <tbody>\n",
       "    <tr>\n",
       "      <th>37</th>\n",
       "      <td>M4E</td>\n",
       "      <td>East Toronto</td>\n",
       "      <td>The Beaches</td>\n",
       "      <td>43.676357</td>\n",
       "      <td>-79.293031</td>\n",
       "    </tr>\n",
       "    <tr>\n",
       "      <th>41</th>\n",
       "      <td>M4K</td>\n",
       "      <td>East Toronto</td>\n",
       "      <td>The Danforth West, Riverdale</td>\n",
       "      <td>43.679557</td>\n",
       "      <td>-79.352188</td>\n",
       "    </tr>\n",
       "    <tr>\n",
       "      <th>42</th>\n",
       "      <td>M4L</td>\n",
       "      <td>East Toronto</td>\n",
       "      <td>India Bazaar, The Beaches West</td>\n",
       "      <td>43.668999</td>\n",
       "      <td>-79.315572</td>\n",
       "    </tr>\n",
       "    <tr>\n",
       "      <th>43</th>\n",
       "      <td>M4M</td>\n",
       "      <td>East Toronto</td>\n",
       "      <td>Studio District</td>\n",
       "      <td>43.659526</td>\n",
       "      <td>-79.340923</td>\n",
       "    </tr>\n",
       "    <tr>\n",
       "      <th>44</th>\n",
       "      <td>M4N</td>\n",
       "      <td>Central Toronto</td>\n",
       "      <td>Lawrence Park</td>\n",
       "      <td>43.728020</td>\n",
       "      <td>-79.388790</td>\n",
       "    </tr>\n",
       "  </tbody>\n",
       "</table>\n",
       "</div>"
      ],
      "text/plain": [
       "   Postalcode          Borough                    Neighborhood   Latitude  \\\n",
       "37        M4E     East Toronto                     The Beaches  43.676357   \n",
       "41        M4K     East Toronto    The Danforth West, Riverdale  43.679557   \n",
       "42        M4L     East Toronto  India Bazaar, The Beaches West  43.668999   \n",
       "43        M4M     East Toronto                 Studio District  43.659526   \n",
       "44        M4N  Central Toronto                   Lawrence Park  43.728020   \n",
       "\n",
       "    Longitude  \n",
       "37 -79.293031  \n",
       "41 -79.352188  \n",
       "42 -79.315572  \n",
       "43 -79.340923  \n",
       "44 -79.388790  "
      ]
     },
     "execution_count": 153,
     "metadata": {},
     "output_type": "execute_result"
    }
   ],
   "source": [
    "toronto_data=gdata[gdata['Borough'].str.contains(\"Toronto\")]\n",
    "toronto_data.head()"
   ]
  },
  {
   "cell_type": "code",
   "execution_count": 154,
   "metadata": {},
   "outputs": [],
   "source": [
    "CLIENT_ID = 'X1DYZ0HYWBJ03LI5ZNQSD4WWQRKQNSTSJR32HGMU2NSXZQXF'\n",
    "CLIENT_SECRET = 'HA2EKBWDBFE3EG5YHPKFH2FB4KKSQABHX5GQK1ZAE35MQY2Y'\n",
    "VERSION = '20200824'"
   ]
  },
  {
   "cell_type": "code",
   "execution_count": 155,
   "metadata": {},
   "outputs": [
    {
     "data": {
      "text/html": [
       "<div>\n",
       "<style scoped>\n",
       "    .dataframe tbody tr th:only-of-type {\n",
       "        vertical-align: middle;\n",
       "    }\n",
       "\n",
       "    .dataframe tbody tr th {\n",
       "        vertical-align: top;\n",
       "    }\n",
       "\n",
       "    .dataframe thead th {\n",
       "        text-align: right;\n",
       "    }\n",
       "</style>\n",
       "<table border=\"1\" class=\"dataframe\">\n",
       "  <thead>\n",
       "    <tr style=\"text-align: right;\">\n",
       "      <th></th>\n",
       "      <th>Neighborhood</th>\n",
       "      <th>Neighborhood Latitude</th>\n",
       "      <th>Neighborhood Longitude</th>\n",
       "      <th>Venue</th>\n",
       "      <th>Venue Latitude</th>\n",
       "      <th>Venue Longitude</th>\n",
       "      <th>Venue Category</th>\n",
       "    </tr>\n",
       "  </thead>\n",
       "  <tbody>\n",
       "    <tr>\n",
       "      <th>0</th>\n",
       "      <td>The Beaches</td>\n",
       "      <td>43.676357</td>\n",
       "      <td>-79.293031</td>\n",
       "      <td>Glen Manor Ravine</td>\n",
       "      <td>43.676821</td>\n",
       "      <td>-79.293942</td>\n",
       "      <td>Trail</td>\n",
       "    </tr>\n",
       "    <tr>\n",
       "      <th>1</th>\n",
       "      <td>The Beaches</td>\n",
       "      <td>43.676357</td>\n",
       "      <td>-79.293031</td>\n",
       "      <td>The Big Carrot Natural Food Market</td>\n",
       "      <td>43.678879</td>\n",
       "      <td>-79.297734</td>\n",
       "      <td>Health Food Store</td>\n",
       "    </tr>\n",
       "    <tr>\n",
       "      <th>2</th>\n",
       "      <td>The Beaches</td>\n",
       "      <td>43.676357</td>\n",
       "      <td>-79.293031</td>\n",
       "      <td>Grover Pub and Grub</td>\n",
       "      <td>43.679181</td>\n",
       "      <td>-79.297215</td>\n",
       "      <td>Pub</td>\n",
       "    </tr>\n",
       "    <tr>\n",
       "      <th>3</th>\n",
       "      <td>The Beaches</td>\n",
       "      <td>43.676357</td>\n",
       "      <td>-79.293031</td>\n",
       "      <td>Upper Beaches</td>\n",
       "      <td>43.680563</td>\n",
       "      <td>-79.292869</td>\n",
       "      <td>Neighborhood</td>\n",
       "    </tr>\n",
       "    <tr>\n",
       "      <th>4</th>\n",
       "      <td>The Danforth West, Riverdale</td>\n",
       "      <td>43.679557</td>\n",
       "      <td>-79.352188</td>\n",
       "      <td>MenEssentials</td>\n",
       "      <td>43.677820</td>\n",
       "      <td>-79.351265</td>\n",
       "      <td>Cosmetics Shop</td>\n",
       "    </tr>\n",
       "  </tbody>\n",
       "</table>\n",
       "</div>"
      ],
      "text/plain": [
       "                   Neighborhood  Neighborhood Latitude  \\\n",
       "0                   The Beaches              43.676357   \n",
       "1                   The Beaches              43.676357   \n",
       "2                   The Beaches              43.676357   \n",
       "3                   The Beaches              43.676357   \n",
       "4  The Danforth West, Riverdale              43.679557   \n",
       "\n",
       "   Neighborhood Longitude                               Venue  Venue Latitude  \\\n",
       "0              -79.293031                   Glen Manor Ravine       43.676821   \n",
       "1              -79.293031  The Big Carrot Natural Food Market       43.678879   \n",
       "2              -79.293031                 Grover Pub and Grub       43.679181   \n",
       "3              -79.293031                       Upper Beaches       43.680563   \n",
       "4              -79.352188                       MenEssentials       43.677820   \n",
       "\n",
       "   Venue Longitude     Venue Category  \n",
       "0       -79.293942              Trail  \n",
       "1       -79.297734  Health Food Store  \n",
       "2       -79.297215                Pub  \n",
       "3       -79.292869       Neighborhood  \n",
       "4       -79.351265     Cosmetics Shop  "
      ]
     },
     "execution_count": 155,
     "metadata": {},
     "output_type": "execute_result"
    }
   ],
   "source": [
    "toronto_venues.head()"
   ]
  },
  {
   "cell_type": "code",
   "execution_count": 161,
   "metadata": {},
   "outputs": [],
   "source": [
    "toronto_grouped = toronto_onehot.groupby('Neighborhood').mean().reset_index()"
   ]
  },
  {
   "cell_type": "code",
   "execution_count": 162,
   "metadata": {},
   "outputs": [],
   "source": [
    "def commonvenues(row, top_venues):\n",
    "    rows = row.iloc[1:]\n",
    "    sorted_rows = rows.sort_values(ascending=False)\n",
    "    return sorted_rows.index.values[0:top_venues]\n",
    "top_venues = 10\n",
    "indicators = ['st', 'nd', 'rd']\n",
    "columns = ['Neighborhood']\n",
    "for item in np.arange(top_venues):\n",
    "    try:\n",
    "        columns.append('{}{} Most Common Venue'.format(item+1, indicators[item]))\n",
    "    except:\n",
    "        columns.append('{}th Most Common Venue'.format(item+1))\n",
    "sorted_neighborhoods_venues = pd.DataFrame(columns=columns)\n",
    "sorted_neighborhoods_venues['Neighborhood'] = toronto_grouped['Neighborhood']\n",
    "for item in np.arange(toronto_grouped.shape[0]):\n",
    "    sorted_neighborhoods_venues.iloc[item, 1:] = commonvenues(toronto_grouped.iloc[item, :], top_venues)\n",
    "#sorted_neighborhoods_venues.head()"
   ]
  },
  {
   "cell_type": "code",
   "execution_count": 163,
   "metadata": {},
   "outputs": [
    {
     "name": "stdout",
     "output_type": "stream",
     "text": [
      "lattitue and longitude of Manhattan are 43.6534817, -79.3839347.\n"
     ]
    }
   ],
   "source": [
    "k_clusters = 7\n",
    "toronto_grouped_clustering = toronto_grouped.drop('Neighborhood', 1)\n",
    "kmeans = KMeans(n_clusters=kclusters, random_state=0).fit(toronto_grouped_clustering)\n",
    "#kmeans.labels_[0:10]\n",
    "sorted_neighborhoods_venues.insert(0, 'Cluster Labels', kmeans.labels_)\n",
    "toronto_merged = toronto_data\n",
    "toronto_merged = toronto_merged.join(sorted_neighborhoods_venues.set_index('Neighborhood'), on='Neighborhood')\n",
    "#toronto_merged.head()\n",
    "address = 'Toronto, CA'\n",
    "g_locator = Nominatim(user_agent=\"ny_explorer\")\n",
    "location = g_locator.geocode(address)\n",
    "latitude = location.latitude\n",
    "longitude = location.longitude\n",
    "print('lattitue and longitude of Manhattan are {}, {}.'.format(latitude, longitude))"
   ]
  },
  {
   "cell_type": "code",
   "execution_count": 164,
   "metadata": {},
   "outputs": [
    {
     "data": {
      "text/html": [
       "<div style=\"width:100%;\"><div style=\"position:relative;width:100%;height:0;padding-bottom:60%;\"><span style=\"color:#565656\">Make this Notebook Trusted to load map: File -> Trust Notebook</span><iframe src=\"about:blank\" style=\"position:absolute;width:100%;height:100%;left:0;top:0;border:none !important;\" data-html=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 onload=\"this.contentDocument.open();this.contentDocument.write(atob(this.getAttribute('data-html')));this.contentDocument.close();\" allowfullscreen webkitallowfullscreen mozallowfullscreen></iframe></div></div>"
      ],
      "text/plain": [
       "<folium.folium.Map at 0x21012571308>"
      ]
     },
     "execution_count": 164,
     "metadata": {},
     "output_type": "execute_result"
    }
   ],
   "source": [
    "map_clusters = folium.Map(location=[lat, longitude], zoom_start=11)\n",
    "x = np.arange(kclusters)\n",
    "ys = [i + x + (i*x)**2 for i in range(kclusters)]\n",
    "colors_array = cm.rainbow(np.linspace(0, 1, len(ys)))\n",
    "rainbow = [colors.rgb2hex(i) for i in colors_array]\n",
    "markers_colors = []\n",
    "for lat, lon, poi, cluster in zip(toronto_merged['Latitude'], toronto_merged['Longitude'], toronto_merged['Neighborhood'], toronto_merged['Cluster Labels']):\n",
    "    label = folium.Popup(str(poi) + ' Cluster ' + str(cluster), parse_html=True)\n",
    "    folium.CircleMarker(\n",
    "        [lat, lon],\n",
    "        radius=5,\n",
    "        popup=label,\n",
    "        color=rainbow[cluster-1],\n",
    "        fill=True,\n",
    "        fill_color=rainbow[cluster-1],\n",
    "        fill_opacity=0.7).add_to(map_clusters)      \n",
    "map_clusters"
   ]
  },
  {
   "cell_type": "code",
   "execution_count": null,
   "metadata": {},
   "outputs": [],
   "source": []
  }
 ],
 "metadata": {
  "kernelspec": {
   "display_name": "NRT",
   "language": "python",
   "name": "nrt"
  },
  "language_info": {
   "codemirror_mode": {
    "name": "ipython",
    "version": 3
   },
   "file_extension": ".py",
   "mimetype": "text/x-python",
   "name": "python",
   "nbconvert_exporter": "python",
   "pygments_lexer": "ipython3",
   "version": "3.7.7"
  }
 },
 "nbformat": 4,
 "nbformat_minor": 4
}
